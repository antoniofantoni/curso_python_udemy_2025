{
 "cells": [
  {
   "cell_type": "code",
   "execution_count": 6,
   "metadata": {},
   "outputs": [
    {
     "name": "stdout",
     "output_type": "stream",
     "text": [
      "\n",
      "--- Resultado ---\n",
      "Número inteiro: 10\n",
      "Número decimal: 9.0\n",
      "Frase digitada com quebras de linha:\n",
      "oi\n",
      "ola\n"
     ]
    }
   ],
   "source": [
    "# Entrada de um número inteiro\n",
    "numero_inteiro = int(input(\"Digite um número inteiro: \"))\n",
    "\n",
    "# Entrada de um número float\n",
    "numero_decimal = float(input(\"Digite um número decimal: \"))\n",
    "\n",
    "# Entrada de uma frase com quebra de linha inserida como '\\n'\n",
    "frase = input(\"Digite uma frase com '\\\\n' para quebrar linhas (ex: linha1\\\\nlinha2): \")\n",
    "\n",
    "# Substitui as ocorrências de '\\n' (texto) pela quebra de linha real\n",
    "frase_formatada = frase.replace(\"\\\\n\", \"\\n\")\n",
    "\n",
    "# Exibindo os dados capturados\n",
    "print(\"\\n--- Resultado ---\")\n",
    "print(f\"Número inteiro: {numero_inteiro}\")\n",
    "print(f\"Número decimal: {numero_decimal}\")\n",
    "print(\"Frase digitada com quebras de linha:\")\n",
    "print(frase_formatada)\n"
   ]
  },
  {
   "cell_type": "code",
   "execution_count": null,
   "metadata": {},
   "outputs": [],
   "source": []
  }
 ],
 "metadata": {
  "kernelspec": {
   "display_name": "Python 3",
   "language": "python",
   "name": "python3"
  },
  "language_info": {
   "codemirror_mode": {
    "name": "ipython",
    "version": 3
   },
   "file_extension": ".py",
   "mimetype": "text/x-python",
   "name": "python",
   "nbconvert_exporter": "python",
   "pygments_lexer": "ipython3",
   "version": "3.12.4"
  }
 },
 "nbformat": 4,
 "nbformat_minor": 2
}
