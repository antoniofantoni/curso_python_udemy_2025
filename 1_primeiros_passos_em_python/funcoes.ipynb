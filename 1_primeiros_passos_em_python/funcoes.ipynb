{
 "cells": [
  {
   "cell_type": "code",
   "execution_count": 2,
   "metadata": {},
   "outputs": [
    {
     "name": "stdout",
     "output_type": "stream",
     "text": [
      "Função simples invocada agora!\n",
      "8\n",
      "Olá Antonio\n",
      "Temos 5 laptops em estoque\n",
      "16\n",
      "5\n"
     ]
    }
   ],
   "source": [
    "# Função simples\n",
    "def funcaoSimples(): # def de definição\n",
    "    print('Função simples invocada agora!')\n",
    "funcaoSimples()\n",
    "\n",
    "\n",
    "# Função para Somar dois números\n",
    "def soma(a, b):\n",
    "    return a + b\n",
    "res = soma(3, 5)\n",
    "print(res)\n",
    "\n",
    "\n",
    "# Função passando nome e quantidade\n",
    "\n",
    "def boas_vindas(nome,quantidade):\n",
    "    print(f'Olá {nome}')\n",
    "    print(f'Temos {quantidade} laptops em estoque')\n",
    "\n",
    "boas_vindas('Antonio', 5)\n",
    "\n",
    "\n",
    "# Função lambda para multiplicar dois números recebendo função como parãmetro\n",
    "multiplicar = lambda x, y: x * y  #Recebe duas variáveis e já as multiplicam após os :\n",
    "resultado=(multiplicar(res, 2)) #atribuindo 15 a variável resultado passando a res como parâmetro\n",
    "print(resultado) # Saída: 16\n",
    "\n",
    "# Função lambda, o return é oculto, mas está presente\n",
    "soma2 = lambda n1,n2 : n1 + n2\n",
    "resultado = (soma2(1,4))\n",
    "print(resultado)\n"
   ]
  }
 ],
 "metadata": {
  "kernelspec": {
   "display_name": "Python 3",
   "language": "python",
   "name": "python3"
  },
  "language_info": {
   "codemirror_mode": {
    "name": "ipython",
    "version": 3
   },
   "file_extension": ".py",
   "mimetype": "text/x-python",
   "name": "python",
   "nbconvert_exporter": "python",
   "pygments_lexer": "ipython3",
   "version": "3.12.4"
  }
 },
 "nbformat": 4,
 "nbformat_minor": 2
}
