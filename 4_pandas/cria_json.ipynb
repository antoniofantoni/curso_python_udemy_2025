{
 "cells": [
  {
   "cell_type": "code",
   "execution_count": 9,
   "id": "95db04d3",
   "metadata": {},
   "outputs": [],
   "source": [
    "#Cria Json\n",
    "import json"
   ]
  },
  {
   "cell_type": "code",
   "execution_count": 10,
   "id": "cc937a17",
   "metadata": {},
   "outputs": [],
   "source": [
    "dados_receita = {\n",
    "    \"receitas\": [\n",
    "        {\n",
    "            \"titulo\": \"Bolo Simples\",\n",
    "            \"tempo_preparo\": \"45 minutos\",\n",
    "            \"porcoes\": \"10 porções\",\n",
    "            \"ingredientes\": [\n",
    "                {\"ingrediente\": \"Farinha de trigo\", \"quantidade\": \"2 xícaras\"},\n",
    "                {\"ingrediente\": \"Açúcar\", \"quantidade\": \"1 xícara\"},\n",
    "                {\"ingrediente\": \"Leite\", \"quantidade\": \"1 xícara\"},\n",
    "                {\"ingrediente\": \"Ovos\", \"quantidade\": \"3 unidades\"},\n",
    "                {\"ingrediente\": \"Manteiga\", \"quantidade\": \"3 colheres de sopa\"}\n",
    "            ]\n",
    "        },\n",
    "        {\n",
    "            \"titulo\": \"Bolo de Chocolate\",\n",
    "            \"tempo_preparo\": \"60 minutos\",\n",
    "            \"porcoes\": \"12 porções\",\n",
    "            \"ingredientes\": [\n",
    "                {\"ingrediente\": \"Farinha de trigo\", \"quantidade\": \"2 xícaras\"},\n",
    "                {\"ingrediente\": \"Açúcar\", \"quantidade\": \"1 e 1/2 xícara\"},\n",
    "                {\"ingrediente\": \"Cacau em pó\", \"quantidade\": \"1/2 xícara\"},\n",
    "                {\"ingrediente\": \"Ovos\", \"quantidade\": \"4 unidades\"},\n",
    "                {\"ingrediente\": \"Leite\", \"quantidade\": \"1 xícara\"},\n",
    "                {\"ingrediente\": \"Óleo\", \"quantidade\": \"1/2 xícara\"},\n",
    "                {\"ingrediente\": \"Fermento em pó\", \"quantidade\": \"1 colher de sopa\"}\n",
    "            ]\n",
    "        }\n",
    "    ]\n",
    "}\n",
    "\n",
    "        "
   ]
  },
  {
   "cell_type": "code",
   "execution_count": 11,
   "id": "ae34a3e4",
   "metadata": {},
   "outputs": [],
   "source": [
    "with open('receitas.json', 'w', encoding='utf-8') as file:\n",
    "    json.dump(dados_receita, file, ensure_ascii=False, indent=4)  "
   ]
  }
 ],
 "metadata": {
  "kernelspec": {
   "display_name": "Python 3",
   "language": "python",
   "name": "python3"
  },
  "language_info": {
   "codemirror_mode": {
    "name": "ipython",
    "version": 3
   },
   "file_extension": ".py",
   "mimetype": "text/x-python",
   "name": "python",
   "nbconvert_exporter": "python",
   "pygments_lexer": "ipython3",
   "version": "3.13.3"
  }
 },
 "nbformat": 4,
 "nbformat_minor": 5
}
