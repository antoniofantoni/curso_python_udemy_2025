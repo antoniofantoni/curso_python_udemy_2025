{
 "cells": [
  {
   "cell_type": "markdown",
   "metadata": {},
   "source": [
    "slice"
   ]
  },
  {
   "cell_type": "code",
   "execution_count": 1,
   "metadata": {},
   "outputs": [
    {
     "name": "stdout",
     "output_type": "stream",
     "text": [
      "aca\n",
      "aca\n",
      "85\n"
     ]
    },
    {
     "data": {
      "text/plain": [
       "' \\nMesmo a string sendo menor\\no slice vai até +1 do tamanho da string\\n'"
      ]
     },
     "execution_count": 1,
     "metadata": {},
     "output_type": "execute_result"
    }
   ],
   "source": [
    "fruta = 'abacate'\n",
    "#str é considerada um array de caracteres\n",
    "frutaSlice = slice(2,5)#2,3,4\n",
    "print(fruta[frutaSlice])\n",
    "print(fruta[2:5])#ou assim\n",
    "#fruta=(fruta[2:5])#O último índice não é incluído\n",
    "\n",
    "taxa = 17.85\n",
    "taxa = str(taxa)\n",
    "print(taxa[3:5]) \n",
    "''' \n",
    "Mesmo a string sendo menor\n",
    "o slice vai até +1 do tamanho da string\n",
    "'''\n"
   ]
  }
 ],
 "metadata": {
  "kernelspec": {
   "display_name": "Python 3",
   "language": "python",
   "name": "python3"
  },
  "language_info": {
   "codemirror_mode": {
    "name": "ipython",
    "version": 3
   },
   "file_extension": ".py",
   "mimetype": "text/x-python",
   "name": "python",
   "nbconvert_exporter": "python",
   "pygments_lexer": "ipython3",
   "version": "3.12.4"
  }
 },
 "nbformat": 4,
 "nbformat_minor": 2
}
