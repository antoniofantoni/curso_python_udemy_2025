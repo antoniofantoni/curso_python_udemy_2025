{
 "cells": [
  {
   "cell_type": "markdown",
   "id": "e564d64b-86ed-4028-9aec-c4a55dd79ae4",
   "metadata": {},
   "source": [
    "Operações comparação"
   ]
  },
  {
   "cell_type": "code",
   "execution_count": 1,
   "id": "b27e2507-3855-41af-a190-a74e50423c4d",
   "metadata": {},
   "outputs": [
    {
     "name": "stdout",
     "output_type": "stream",
     "text": [
      "True\n",
      "True\n",
      "True\n",
      "False\n",
      "True\n",
      "True\n"
     ]
    }
   ],
   "source": [
    "''''\n",
    "==: Igualdade.\n",
    "!=: Diferente.\n",
    ">: Maior que.\n",
    "<: Menor que.\n",
    ">=: Maior ou igual a.\n",
    "<=: Menor ou igual a.\n",
    "\n",
    "'''\n",
    "\n",
    "x = 5\n",
    "y = 3\n",
    "z = 5\n",
    "\n",
    "# Igualdade\n",
    "print(x == z)  # True\n",
    "\n",
    "# Diferente\n",
    "print(x != y)  # True\n",
    "\n",
    "# Maior que\n",
    "print(x > y)  # True\n",
    "\n",
    "# Menor que\n",
    "print(x < z)  # False\n",
    "\n",
    "# Maior ou igual a\n",
    "print(x >= z)  # True\n",
    "\n",
    "# Menor ou igual a\n",
    "print(y <= x)  # True\n",
    "\n",
    "\n",
    "\n"
   ]
  }
 ],
 "metadata": {
  "kernelspec": {
   "display_name": "Python 3",
   "language": "python",
   "name": "python3"
  },
  "language_info": {
   "codemirror_mode": {
    "name": "ipython",
    "version": 3
   },
   "file_extension": ".py",
   "mimetype": "text/x-python",
   "name": "python",
   "nbconvert_exporter": "python",
   "pygments_lexer": "ipython3",
   "version": "3.12.3"
  }
 },
 "nbformat": 4,
 "nbformat_minor": 5
}
