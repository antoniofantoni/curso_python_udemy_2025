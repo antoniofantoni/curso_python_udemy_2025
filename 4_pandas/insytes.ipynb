{
 "cells": [
  {
   "cell_type": "code",
   "execution_count": 1,
   "id": "9d83dac9",
   "metadata": {},
   "outputs": [],
   "source": [
    "import pandas as pd"
   ]
  },
  {
   "cell_type": "code",
   "execution_count": 3,
   "id": "49645954",
   "metadata": {},
   "outputs": [
    {
     "data": {
      "text/html": [
       "<div>\n",
       "<style scoped>\n",
       "    .dataframe tbody tr th:only-of-type {\n",
       "        vertical-align: middle;\n",
       "    }\n",
       "\n",
       "    .dataframe tbody tr th {\n",
       "        vertical-align: top;\n",
       "    }\n",
       "\n",
       "    .dataframe thead th {\n",
       "        text-align: right;\n",
       "    }\n",
       "</style>\n",
       "<table border=\"1\" class=\"dataframe\">\n",
       "  <thead>\n",
       "    <tr style=\"text-align: right;\">\n",
       "      <th></th>\n",
       "      <th>Categoria</th>\n",
       "      <th>Produto</th>\n",
       "      <th>Preço</th>\n",
       "      <th>Quantidade</th>\n",
       "      <th>Data de Venda</th>\n",
       "    </tr>\n",
       "  </thead>\n",
       "  <tbody>\n",
       "    <tr>\n",
       "      <th>0</th>\n",
       "      <td>Eletrônicos</td>\n",
       "      <td>Celular</td>\n",
       "      <td>158.83</td>\n",
       "      <td>5</td>\n",
       "      <td>2024-09-06</td>\n",
       "    </tr>\n",
       "    <tr>\n",
       "      <th>1</th>\n",
       "      <td>Roupas</td>\n",
       "      <td>Calça Jeans</td>\n",
       "      <td>372.93</td>\n",
       "      <td>7</td>\n",
       "      <td>2024-10-31</td>\n",
       "    </tr>\n",
       "    <tr>\n",
       "      <th>2</th>\n",
       "      <td>Alimentos</td>\n",
       "      <td>Café</td>\n",
       "      <td>133.16</td>\n",
       "      <td>5</td>\n",
       "      <td>2024-10-21</td>\n",
       "    </tr>\n",
       "    <tr>\n",
       "      <th>3</th>\n",
       "      <td>Beleza</td>\n",
       "      <td>Sabonete</td>\n",
       "      <td>168.02</td>\n",
       "      <td>8</td>\n",
       "      <td>2025-02-08</td>\n",
       "    </tr>\n",
       "    <tr>\n",
       "      <th>4</th>\n",
       "      <td>Alimentos</td>\n",
       "      <td>Arroz</td>\n",
       "      <td>161.26</td>\n",
       "      <td>5</td>\n",
       "      <td>2024-09-30</td>\n",
       "    </tr>\n",
       "    <tr>\n",
       "      <th>...</th>\n",
       "      <td>...</td>\n",
       "      <td>...</td>\n",
       "      <td>...</td>\n",
       "      <td>...</td>\n",
       "      <td>...</td>\n",
       "    </tr>\n",
       "    <tr>\n",
       "      <th>195</th>\n",
       "      <td>Livros</td>\n",
       "      <td>Técnico</td>\n",
       "      <td>372.60</td>\n",
       "      <td>2</td>\n",
       "      <td>2025-02-24</td>\n",
       "    </tr>\n",
       "    <tr>\n",
       "      <th>196</th>\n",
       "      <td>Roupas</td>\n",
       "      <td>Calça Jeans</td>\n",
       "      <td>383.24</td>\n",
       "      <td>3</td>\n",
       "      <td>2024-12-16</td>\n",
       "    </tr>\n",
       "    <tr>\n",
       "      <th>197</th>\n",
       "      <td>Alimentos</td>\n",
       "      <td>Feijão</td>\n",
       "      <td>222.36</td>\n",
       "      <td>5</td>\n",
       "      <td>2025-04-03</td>\n",
       "    </tr>\n",
       "    <tr>\n",
       "      <th>198</th>\n",
       "      <td>Alimentos</td>\n",
       "      <td>Arroz</td>\n",
       "      <td>143.84</td>\n",
       "      <td>9</td>\n",
       "      <td>2024-07-27</td>\n",
       "    </tr>\n",
       "    <tr>\n",
       "      <th>199</th>\n",
       "      <td>Roupas</td>\n",
       "      <td>Tênis</td>\n",
       "      <td>342.73</td>\n",
       "      <td>2</td>\n",
       "      <td>2025-01-21</td>\n",
       "    </tr>\n",
       "  </tbody>\n",
       "</table>\n",
       "<p>200 rows × 5 columns</p>\n",
       "</div>"
      ],
      "text/plain": [
       "       Categoria      Produto   Preço  Quantidade Data de Venda\n",
       "0    Eletrônicos      Celular  158.83           5    2024-09-06\n",
       "1         Roupas  Calça Jeans  372.93           7    2024-10-31\n",
       "2      Alimentos         Café  133.16           5    2024-10-21\n",
       "3         Beleza     Sabonete  168.02           8    2025-02-08\n",
       "4      Alimentos        Arroz  161.26           5    2024-09-30\n",
       "..           ...          ...     ...         ...           ...\n",
       "195       Livros      Técnico  372.60           2    2025-02-24\n",
       "196       Roupas  Calça Jeans  383.24           3    2024-12-16\n",
       "197    Alimentos       Feijão  222.36           5    2025-04-03\n",
       "198    Alimentos        Arroz  143.84           9    2024-07-27\n",
       "199       Roupas        Tênis  342.73           2    2025-01-21\n",
       "\n",
       "[200 rows x 5 columns]"
      ]
     },
     "execution_count": 3,
     "metadata": {},
     "output_type": "execute_result"
    }
   ],
   "source": [
    "# importar aquivo .csv\n",
    "df = pd.read_csv('produtos.csv', sep=';')\n",
    "df\n",
    "\n",
    "\n"
   ]
  },
  {
   "cell_type": "code",
   "execution_count": 9,
   "id": "bc4a62f8",
   "metadata": {},
   "outputs": [
    {
     "data": {
      "text/plain": [
       "Categoria\n",
       "Alimentos      181\n",
       "Beleza         204\n",
       "Eletrônicos    249\n",
       "Livros         221\n",
       "Roupas         208\n",
       "Name: Quantidade, dtype: int64"
      ]
     },
     "execution_count": 9,
     "metadata": {},
     "output_type": "execute_result"
    }
   ],
   "source": [
    "#Desempenhos de vendas por categoria usando o groupby usando o arquivo produtos.csv\n",
    "vendas_categoria = df.groupby('Categoria')['Quantidade'].sum()\n",
    "vendas_categoria\n"
   ]
  },
  {
   "cell_type": "code",
   "execution_count": 8,
   "id": "f5f8d15a",
   "metadata": {},
   "outputs": [
    {
     "data": {
      "text/plain": [
       "Categoria         Alimentos\n",
       "Produto               Leite\n",
       "Preço                306.27\n",
       "Quantidade               10\n",
       "Data de Venda    2024-07-27\n",
       "Name: 13, dtype: object"
      ]
     },
     "execution_count": 8,
     "metadata": {},
     "output_type": "execute_result"
    }
   ],
   "source": [
    "produto_mais_vendido = df.loc[df['Quantidade'].idxmax()]\n",
    "produto_mais_vendido"
   ]
  }
 ],
 "metadata": {
  "kernelspec": {
   "display_name": "Python 3",
   "language": "python",
   "name": "python3"
  },
  "language_info": {
   "codemirror_mode": {
    "name": "ipython",
    "version": 3
   },
   "file_extension": ".py",
   "mimetype": "text/x-python",
   "name": "python",
   "nbconvert_exporter": "python",
   "pygments_lexer": "ipython3",
   "version": "3.13.3"
  }
 },
 "nbformat": 4,
 "nbformat_minor": 5
}
