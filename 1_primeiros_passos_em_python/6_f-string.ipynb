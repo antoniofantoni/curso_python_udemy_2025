{
 "cells": [
  {
   "cell_type": "markdown",
   "metadata": {},
   "source": [
    "f-string"
   ]
  },
  {
   "cell_type": "code",
   "execution_count": 2,
   "metadata": {},
   "outputs": [
    {
     "name": "stdout",
     "output_type": "stream",
     "text": [
      "O Antonio tem 51 anos e mora na cidade do RJ e é Dev.\n"
     ]
    }
   ],
   "source": [
    "#usando o f-string (abreviação de formatted string literals).\n",
    "nome = \"Antonio\"\n",
    "idade = 51\n",
    "cidade = \"RJ\"\n",
    "profissao = \"Dev\"\n",
    "dados = f\"O {nome} tem {idade} anos e mora na cidade do {cidade} e é {profissao}.\"\n",
    "print(dados)"
   ]
  }
 ],
 "metadata": {
  "kernelspec": {
   "display_name": "Python 3",
   "language": "python",
   "name": "python3"
  },
  "language_info": {
   "codemirror_mode": {
    "name": "ipython",
    "version": 3
   },
   "file_extension": ".py",
   "mimetype": "text/x-python",
   "name": "python",
   "nbconvert_exporter": "python",
   "pygments_lexer": "ipython3",
   "version": "3.12.3"
  }
 },
 "nbformat": 4,
 "nbformat_minor": 2
}
