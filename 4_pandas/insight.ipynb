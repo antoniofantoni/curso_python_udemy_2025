{
 "cells": [
  {
   "cell_type": "code",
   "execution_count": 3,
   "id": "9d83dac9",
   "metadata": {},
   "outputs": [],
   "source": [
    "import pandas as pd"
   ]
  },
  {
   "cell_type": "code",
   "execution_count": 4,
   "id": "49645954",
   "metadata": {},
   "outputs": [
    {
     "data": {
      "text/html": [
       "<div>\n",
       "<style scoped>\n",
       "    .dataframe tbody tr th:only-of-type {\n",
       "        vertical-align: middle;\n",
       "    }\n",
       "\n",
       "    .dataframe tbody tr th {\n",
       "        vertical-align: top;\n",
       "    }\n",
       "\n",
       "    .dataframe thead th {\n",
       "        text-align: right;\n",
       "    }\n",
       "</style>\n",
       "<table border=\"1\" class=\"dataframe\">\n",
       "  <thead>\n",
       "    <tr style=\"text-align: right;\">\n",
       "      <th></th>\n",
       "      <th>Categoria</th>\n",
       "      <th>Produto</th>\n",
       "      <th>Preço</th>\n",
       "      <th>Quantidade</th>\n",
       "      <th>Data de Venda</th>\n",
       "    </tr>\n",
       "  </thead>\n",
       "  <tbody>\n",
       "    <tr>\n",
       "      <th>0</th>\n",
       "      <td>Eletrônicos</td>\n",
       "      <td>Celular</td>\n",
       "      <td>158.83</td>\n",
       "      <td>5</td>\n",
       "      <td>2024-09-06</td>\n",
       "    </tr>\n",
       "    <tr>\n",
       "      <th>1</th>\n",
       "      <td>Roupas</td>\n",
       "      <td>Calça Jeans</td>\n",
       "      <td>372.93</td>\n",
       "      <td>7</td>\n",
       "      <td>2024-10-31</td>\n",
       "    </tr>\n",
       "    <tr>\n",
       "      <th>2</th>\n",
       "      <td>Alimentos</td>\n",
       "      <td>Café</td>\n",
       "      <td>133.16</td>\n",
       "      <td>5</td>\n",
       "      <td>2024-10-21</td>\n",
       "    </tr>\n",
       "    <tr>\n",
       "      <th>3</th>\n",
       "      <td>Beleza</td>\n",
       "      <td>Sabonete</td>\n",
       "      <td>168.02</td>\n",
       "      <td>8</td>\n",
       "      <td>2025-02-08</td>\n",
       "    </tr>\n",
       "    <tr>\n",
       "      <th>4</th>\n",
       "      <td>Alimentos</td>\n",
       "      <td>Arroz</td>\n",
       "      <td>161.26</td>\n",
       "      <td>5</td>\n",
       "      <td>2024-09-30</td>\n",
       "    </tr>\n",
       "    <tr>\n",
       "      <th>...</th>\n",
       "      <td>...</td>\n",
       "      <td>...</td>\n",
       "      <td>...</td>\n",
       "      <td>...</td>\n",
       "      <td>...</td>\n",
       "    </tr>\n",
       "    <tr>\n",
       "      <th>195</th>\n",
       "      <td>Livros</td>\n",
       "      <td>Técnico</td>\n",
       "      <td>372.60</td>\n",
       "      <td>2</td>\n",
       "      <td>2025-02-24</td>\n",
       "    </tr>\n",
       "    <tr>\n",
       "      <th>196</th>\n",
       "      <td>Roupas</td>\n",
       "      <td>Calça Jeans</td>\n",
       "      <td>383.24</td>\n",
       "      <td>3</td>\n",
       "      <td>2024-12-16</td>\n",
       "    </tr>\n",
       "    <tr>\n",
       "      <th>197</th>\n",
       "      <td>Alimentos</td>\n",
       "      <td>Feijão</td>\n",
       "      <td>222.36</td>\n",
       "      <td>5</td>\n",
       "      <td>2025-04-03</td>\n",
       "    </tr>\n",
       "    <tr>\n",
       "      <th>198</th>\n",
       "      <td>Alimentos</td>\n",
       "      <td>Arroz</td>\n",
       "      <td>143.84</td>\n",
       "      <td>9</td>\n",
       "      <td>2024-07-27</td>\n",
       "    </tr>\n",
       "    <tr>\n",
       "      <th>199</th>\n",
       "      <td>Roupas</td>\n",
       "      <td>Tênis</td>\n",
       "      <td>342.73</td>\n",
       "      <td>2</td>\n",
       "      <td>2025-01-21</td>\n",
       "    </tr>\n",
       "  </tbody>\n",
       "</table>\n",
       "<p>200 rows × 5 columns</p>\n",
       "</div>"
      ],
      "text/plain": [
       "       Categoria      Produto   Preço  Quantidade Data de Venda\n",
       "0    Eletrônicos      Celular  158.83           5    2024-09-06\n",
       "1         Roupas  Calça Jeans  372.93           7    2024-10-31\n",
       "2      Alimentos         Café  133.16           5    2024-10-21\n",
       "3         Beleza     Sabonete  168.02           8    2025-02-08\n",
       "4      Alimentos        Arroz  161.26           5    2024-09-30\n",
       "..           ...          ...     ...         ...           ...\n",
       "195       Livros      Técnico  372.60           2    2025-02-24\n",
       "196       Roupas  Calça Jeans  383.24           3    2024-12-16\n",
       "197    Alimentos       Feijão  222.36           5    2025-04-03\n",
       "198    Alimentos        Arroz  143.84           9    2024-07-27\n",
       "199       Roupas        Tênis  342.73           2    2025-01-21\n",
       "\n",
       "[200 rows x 5 columns]"
      ]
     },
     "execution_count": 4,
     "metadata": {},
     "output_type": "execute_result"
    }
   ],
   "source": [
    "# importar aquivo .csv\n",
    "df = pd.read_csv('produtos.csv', sep=';')\n",
    "df"
   ]
  },
  {
   "cell_type": "code",
   "execution_count": 5,
   "id": "bc4a62f8",
   "metadata": {},
   "outputs": [
    {
     "data": {
      "text/plain": [
       "Categoria\n",
       "Alimentos      181\n",
       "Beleza         204\n",
       "Eletrônicos    249\n",
       "Livros         221\n",
       "Roupas         208\n",
       "Name: Quantidade, dtype: int64"
      ]
     },
     "execution_count": 5,
     "metadata": {},
     "output_type": "execute_result"
    }
   ],
   "source": [
    "#Desempenhos de vendas por categoria usando o groupby usando o arquivo produtos.csv\n",
    "vendas_categoria = df.groupby('Categoria')['Quantidade'].sum()\n",
    "vendas_categoria\n"
   ]
  },
  {
   "cell_type": "code",
   "execution_count": null,
   "id": "21a247cd",
   "metadata": {},
   "outputs": [],
   "source": [
    "# após o insight, exportar o resultado para um novo arquivo .csv\n",
    "vendas_categoria.to_csv('vendas_por_categoria.csv', sep=';')"
   ]
  },
  {
   "cell_type": "code",
   "execution_count": 8,
   "id": "f5f8d15a",
   "metadata": {},
   "outputs": [
    {
     "data": {
      "text/plain": [
       "'Notebook'"
      ]
     },
     "execution_count": 8,
     "metadata": {},
     "output_type": "execute_result"
    }
   ],
   "source": [
    "#Produto mais vendido\n",
    "produto_mais_vendido = df.groupby('Produto')['Quantidade'].sum().idxmax()\n",
    "produto_mais_vendido"
   ]
  },
  {
   "cell_type": "code",
   "execution_count": 11,
   "id": "e2415e90",
   "metadata": {},
   "outputs": [
    {
     "data": {
      "text/plain": [
       "Produto\n",
       "Arroz             36\n",
       "Boné              31\n",
       "Café              25\n",
       "Calça Jeans       49\n",
       "Camiseta          30\n",
       "Carregador        48\n",
       "Celular           51\n",
       "Creme             30\n",
       "Didático          55\n",
       "Feijão            43\n",
       "Fone de Ouvido    19\n",
       "HQ                59\n",
       "Infantil          47\n",
       "Jaqueta           53\n",
       "Leite             24\n",
       "Macarrão          53\n",
       "Maquiagem         53\n",
       "Mouse             62\n",
       "Notebook          69\n",
       "Perfume           31\n",
       "Romance           23\n",
       "Sabonete          23\n",
       "Shampoo           67\n",
       "Técnico           37\n",
       "Tênis             45\n",
       "Name: Quantidade, dtype: int64"
      ]
     },
     "execution_count": 11,
     "metadata": {},
     "output_type": "execute_result"
    }
   ],
   "source": [
    "# Produtos mais vendidos\n",
    "produtos_mais_vendidos = df.groupby('Produto')['Quantidade'].sum()\n",
    "produtos_mais_vendidos\n"
   ]
  },
  {
   "cell_type": "code",
   "execution_count": 16,
   "id": "f8cc8686",
   "metadata": {},
   "outputs": [
    {
     "data": {
      "text/plain": [
       "Produto\n",
       "Arroz             168.620000\n",
       "Boné              319.822857\n",
       "Café              317.150000\n",
       "Calça Jeans       299.480000\n",
       "Camiseta          270.122857\n",
       "Carregador        216.495000\n",
       "Celular           288.701818\n",
       "Creme             227.507143\n",
       "Didático          284.854444\n",
       "Feijão            229.057143\n",
       "Fone de Ouvido    241.593333\n",
       "HQ                302.265556\n",
       "Infantil          284.758571\n",
       "Jaqueta           297.095000\n",
       "Leite             296.006667\n",
       "Macarrão          218.677778\n",
       "Maquiagem         260.139000\n",
       "Mouse             223.263000\n",
       "Notebook          271.980909\n",
       "Perfume           350.941667\n",
       "Romance           233.282500\n",
       "Sabonete          342.790000\n",
       "Shampoo           289.818000\n",
       "Técnico           179.051250\n",
       "Tênis             316.249000\n",
       "Name: Preço, dtype: float64"
      ]
     },
     "execution_count": 16,
     "metadata": {},
     "output_type": "execute_result"
    }
   ],
   "source": [
    "media_precos = df.groupby('Produto')['Preço'].mean()\n",
    "media_precos"
   ]
  },
  {
   "cell_type": "code",
   "execution_count": 19,
   "id": "8f6e13fa",
   "metadata": {},
   "outputs": [
    {
     "data": {
      "text/plain": [
       "np.float64(0.00588963010990304)"
      ]
     },
     "execution_count": 19,
     "metadata": {},
     "output_type": "execute_result"
    }
   ],
   "source": [
    "#Correlações entre preço e quantidade vendida\n",
    "correlacao_preco_quantidade = df['Quantidade'].corr(df['Preço'])\n",
    "correlacao_preco_quantidade\n",
    "\n"
   ]
  }
 ],
 "metadata": {
  "kernelspec": {
   "display_name": "Python 3",
   "language": "python",
   "name": "python3"
  },
  "language_info": {
   "codemirror_mode": {
    "name": "ipython",
    "version": 3
   },
   "file_extension": ".py",
   "mimetype": "text/x-python",
   "name": "python",
   "nbconvert_exporter": "python",
   "pygments_lexer": "ipython3",
   "version": "3.13.3"
  }
 },
 "nbformat": 4,
 "nbformat_minor": 5
}
