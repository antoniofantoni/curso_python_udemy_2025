{
 "cells": [
  {
   "cell_type": "markdown",
   "id": "50a05fc7",
   "metadata": {},
   "source": [
    "series"
   ]
  },
  {
   "cell_type": "code",
   "execution_count": 3,
   "id": "c3ad04b2",
   "metadata": {},
   "outputs": [],
   "source": [
    "import pandas as pd"
   ]
  },
  {
   "cell_type": "code",
   "execution_count": 4,
   "id": "ce6fa02a",
   "metadata": {},
   "outputs": [
    {
     "data": {
      "text/plain": [
       "0    10\n",
       "1    20\n",
       "2    30\n",
       "3    40\n",
       "4    50\n",
       "dtype: int64"
      ]
     },
     "execution_count": 4,
     "metadata": {},
     "output_type": "execute_result"
    }
   ],
   "source": [
    "dados = [10, 20, 30, 40, 50]\n",
    "serie = pd.Series(dados)\n",
    "serie"
   ]
  },
  {
   "cell_type": "code",
   "execution_count": null,
   "id": "35cf3b69",
   "metadata": {},
   "outputs": [
    {
     "data": {
      "text/plain": [
       "Jan    1000\n",
       "Fev    1500\n",
       "Mar    2000\n",
       "Abr    2500\n",
       "Mai    3000\n",
       "dtype: int64"
      ]
     },
     "execution_count": 5,
     "metadata": {},
     "output_type": "execute_result"
    }
   ],
   "source": []
  },
  {
   "cell_type": "code",
   "execution_count": 6,
   "id": "ff1a9af8",
   "metadata": {
    "vscode": {
     "languageId": "ruby"
    }
   },
   "outputs": [
    {
     "data": {
      "text/plain": [
       "Jan    1000\n",
       "Fev    1500\n",
       "Mar    2000\n",
       "Abr    2500\n",
       "Mai    3000\n",
       "Jun    2800\n",
       "Jul    2700\n",
       "Ago    2600\n",
       "Set    2400\n",
       "Out    2300\n",
       "Nov    2200\n",
       "Dez    2100\n",
       "dtype: int64"
      ]
     },
     "execution_count": 6,
     "metadata": {},
     "output_type": "execute_result"
    }
   ],
   "source": [
    "# Criando uma série com vendas mensais de janeiro a dezembro\n",
    "meses = ['Jan', 'Fev', 'Mar', 'Abr', 'Mai', 'Jun', 'Jul', 'Ago', 'Set', 'Out', 'Nov', 'Dez']\n",
    "vendas = [1000, 1500, 2000, 2500, 3000, 2800, 2700, 2600, 2400, 2300, 2200, 2100]\n",
    "vendas_mensais = pd.Series(vendas, index=meses)\n",
    "vendas_mensais"
   ]
  },
  {
   "cell_type": "code",
   "execution_count": 11,
   "id": "2d9a70cc",
   "metadata": {},
   "outputs": [
    {
     "name": "stdout",
     "output_type": "stream",
     "text": [
      "Média de vendas: 2258.3333333333335\n",
      "Maior venda: 3000\n",
      "Menor venda: 1000\n"
     ]
    }
   ],
   "source": [
    "# Exemplo de manipulação: calcular a média, o valor máximo e mínimo das vendas mensais\n",
    "media_vendas = vendas_mensais.mean() # type: ignore\n",
    "max_vendas = vendas_mensais.max() # type: ignore\n",
    "min_vendas = vendas_mensais.min() # type: ignore\n",
    "\n",
    "print(f\"Média de vendas: {media_vendas}\")\n",
    "print(f\"Maior venda: {max_vendas}\")\n",
    "print(f\"Menor venda: {min_vendas}\")"
   ]
  },
  {
   "cell_type": "code",
   "execution_count": 20,
   "id": "9ac35d7c",
   "metadata": {},
   "outputs": [
    {
     "name": "stdout",
     "output_type": "stream",
     "text": [
      "O mês com maior venda foi: Mai\n"
     ]
    },
    {
     "data": {
      "text/plain": [
       "'Mai'"
      ]
     },
     "execution_count": 20,
     "metadata": {},
     "output_type": "execute_result"
    }
   ],
   "source": [
    "mes_maior_venda = vendas_mensais.idxmax()\n",
    "print(f\"O mês com maior venda foi: {mes_maior_venda}\")\n",
    "mes_maior_venda"
   ]
  }
 ],
 "metadata": {
  "kernelspec": {
   "display_name": "Python 3",
   "language": "python",
   "name": "python3"
  },
  "language_info": {
   "codemirror_mode": {
    "name": "ipython",
    "version": 3
   },
   "file_extension": ".py",
   "mimetype": "text/x-python",
   "name": "python",
   "nbconvert_exporter": "python",
   "pygments_lexer": "ipython3",
   "version": "3.13.3"
  }
 },
 "nbformat": 4,
 "nbformat_minor": 5
}
