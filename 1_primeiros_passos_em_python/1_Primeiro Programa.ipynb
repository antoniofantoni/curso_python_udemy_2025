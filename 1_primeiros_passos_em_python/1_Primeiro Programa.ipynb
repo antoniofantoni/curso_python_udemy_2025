{
 "cells": [
  {
   "cell_type": "markdown",
   "id": "e564d64b-86ed-4028-9aec-c4a55dd79ae4",
   "metadata": {},
   "source": [
    "Meu programa, bora pra cima hashtag"
   ]
  },
  {
   "cell_type": "code",
   "execution_count": 6,
   "id": "b27e2507-3855-41af-a190-a74e50423c4d",
   "metadata": {},
   "outputs": [
    {
     "name": "stdout",
     "output_type": "stream",
     "text": [
      "Hello World!\n"
     ]
    }
   ],
   "source": [
    "print('Hello World!')"
   ]
  }
 ],
 "metadata": {
  "kernelspec": {
   "display_name": "Python 3",
   "language": "python",
   "name": "python3"
  },
  "language_info": {
   "codemirror_mode": {
    "name": "ipython",
    "version": 3
   },
   "file_extension": ".py",
   "mimetype": "text/x-python",
   "name": "python",
   "nbconvert_exporter": "python",
   "pygments_lexer": "ipython3",
   "version": "3.12.3"
  }
 },
 "nbformat": 4,
 "nbformat_minor": 5
}
