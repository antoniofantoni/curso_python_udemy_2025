{
 "cells": [
  {
   "cell_type": "code",
   "execution_count": null,
   "metadata": {},
   "outputs": [],
   "source": [
    "def soma(*numeros):\n",
    "    total = 0\n",
    "    for num in numeros:\n",
    "        total += num\n",
    "    return total\n",
    "\n",
    "print(soma(1,2,5,5))\n",
    "\n",
    "\n",
    "def agencia(*carro):\n",
    "    return carro\n",
    "print(agencia('Gol','Branca',1.0))"
   ]
  }
 ],
 "metadata": {
  "kernelspec": {
   "display_name": "Python 3",
   "language": "python",
   "name": "python3"
  },
  "language_info": {
   "name": "python",
   "version": "3.12.3"
  }
 },
 "nbformat": 4,
 "nbformat_minor": 2
}
