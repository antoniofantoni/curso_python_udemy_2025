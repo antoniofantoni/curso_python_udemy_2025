{
 "cells": [
  {
   "cell_type": "markdown",
   "metadata": {},
   "source": [
    "usando datetime"
   ]
  },
  {
   "cell_type": "code",
   "execution_count": null,
   "metadata": {
    "vscode": {
     "languageId": "plaintext"
    }
   },
   "outputs": [],
   "source": [
    "from datetime import datetime\n",
    "\n",
    "ano_atual = datetime.now().year  \n",
    "\n",
    "ano_nascimento = input('Ano de Nascimento: ')\n",
    "print(type(ano_nascimento))\n",
    "ano_nascimento = int(ano_nascimento)#Conversão de str para int\n",
    "print(type(ano_nascimento))\n",
    "print(f\"Idade: {ano_atual - ano_nascimento} anos\") "
   ]
  }
 ],
 "metadata": {
  "kernelspec": {
   "display_name": "Python 3",
   "language": "python",
   "name": "python3"
  },
  "language_info": {
   "name": "python",
   "version": "3.12.3"
  }
 },
 "nbformat": 4,
 "nbformat_minor": 2
}
