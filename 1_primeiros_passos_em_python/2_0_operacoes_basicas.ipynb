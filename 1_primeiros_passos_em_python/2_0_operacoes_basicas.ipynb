{
 "cells": [
  {
   "cell_type": "markdown",
   "id": "e564d64b-86ed-4028-9aec-c4a55dd79ae4",
   "metadata": {},
   "source": [
    "Operações básicas em python"
   ]
  },
  {
   "cell_type": "code",
   "execution_count": 11,
   "id": "b27e2507-3855-41af-a190-a74e50423c4d",
   "metadata": {},
   "outputs": [
    {
     "name": "stdout",
     "output_type": "stream",
     "text": [
      "8\n",
      "6\n",
      "1\n",
      "5% de 200 é 10.0\n",
      "10% de 200 é 20.0\n"
     ]
    }
   ],
   "source": [
    "print(5 + 3)  # Resultado: 8\n",
    "print(10 - 4)  # Resultado: 6\n",
    "resultado3 = 6 * 7  # Resultado: 42\n",
    "resultado4 = 20 / 4  # Resultado: 5.0\n",
    "resultado5 = 7 // 3  # Resultado: 2 (divisão inteira)\n",
    "resultado6 = 10 % 3  # Resultado: 1 (resto da divisão)\n",
    "resultado7 = 2 ** 3  # Resultado: 8 (exponenciação)\n",
    "print(10%3) # resto 1\n",
    "\n",
    "import math\n",
    "\n",
    "# Funções matemáticas em Python\n",
    "abs_valor = abs(-10)  # Resultado: 10\n",
    "potencia = pow(2, 3)  # Resultado: 8\n",
    "arredondado = round(3.14159, 2)  # Resultado: 3.14\n",
    "raiz_quadrada = math.sqrt(16)  # Resultado: 4.0\n",
    "fatorial = math.factorial(5)  # Resultado: 120\n",
    "exponencial = math.exp(2)  # Resultado: 7.389056098930649\n",
    "log_natural = math.log(10)  # Resultado: 2.302585092994046\n",
    "log_base10 = math.log10(100)  # Resultado: 2.0\n",
    "seno = math.sin(math.pi / 2)  # Resultado: 1.0\n",
    "cosseno = math.cos(0)  # Resultado: 1.0\n",
    "tangente = math.tan(math.pi / 4)  # Resultado: 1.0\n",
    "arredonda_cima = math.ceil(4.3)  # Resultado: 5\n",
    "arredonda_baixo = math.floor(4.7)  # Resultado: 4\n",
    "\n",
    "\n",
    "valor = 200  # Altere para o valor desejado\n",
    "\n",
    "#5 por(/) cento * valor\n",
    "porcentagem_5 = (5 / 100) * valor  # Calcula 5% do valor\n",
    "porcentagem_10 = (10 / 100) * valor  # Calcula 10% do valor\n",
    "novo_valor_acresc_5_por_cento = valor * 1.05  # Acrescenta \n",
    "novo_valor_acresc_10_por_cento = valor * 1.10  # Acrescenta 10% diretamente5% diretamente\n",
    "\n",
    "print(f\"5% de {valor} é {porcentagem_5}\")\n",
    "print(f\"10% de {valor} é {porcentagem_10}\")\n",
    "\n",
    "\n",
    "\n"
   ]
  }
 ],
 "metadata": {
  "kernelspec": {
   "display_name": "Python 3",
   "language": "python",
   "name": "python3"
  },
  "language_info": {
   "codemirror_mode": {
    "name": "ipython",
    "version": 3
   },
   "file_extension": ".py",
   "mimetype": "text/x-python",
   "name": "python",
   "nbconvert_exporter": "python",
   "pygments_lexer": "ipython3",
   "version": "3.12.3"
  }
 },
 "nbformat": 4,
 "nbformat_minor": 5
}
