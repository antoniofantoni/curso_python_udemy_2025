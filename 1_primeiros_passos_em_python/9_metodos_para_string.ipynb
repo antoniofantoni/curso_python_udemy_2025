{
 "cells": [
  {
   "cell_type": "markdown",
   "metadata": {},
   "source": [
    "Métodos para String"
   ]
  },
  {
   "cell_type": "code",
   "execution_count": null,
   "metadata": {},
   "outputs": [],
   "source": [
    "fruta = 'abacate'\n",
    "#str é considerada um array de caracteres\n",
    "frutaSlice = slice(2,5)#2,3,4\n",
    "print(fruta[frutaSlice])\n",
    "print(fruta[2:5])#ou assim\n",
    "#fruta=(fruta[2:5])#O último índice não é incluído\n",
    "\n",
    "taxa = 17.85\n",
    "taxa = str(taxa)\n",
    "print(taxa[3:5]) \n",
    "''' \n",
    "Mesmo a string sendo menor\n",
    "o slice vai até +1 do tamanho da string\n",
    "'''\n"
   ]
  }
 ],
 "metadata": {
  "kernelspec": {
   "display_name": "Python 3",
   "language": "python",
   "name": "python3"
  },
  "language_info": {
   "name": "python",
   "version": "3.12.3"
  }
 },
 "nbformat": 4,
 "nbformat_minor": 2
}
