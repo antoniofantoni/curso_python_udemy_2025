{
 "cells": [
  {
   "cell_type": "code",
   "execution_count": null,
   "metadata": {},
   "outputs": [],
   "source": [
    "'''Os operadores lógicos em Python são:\n",
    "\n",
    "and: Retorna True se ambas as condições forem verdadeiras.\n",
    "or: Retorna True se pelo menos uma das condições for verdadeira.\n",
    "not: Inverte o valor lógico da condição.\n",
    "'''\n",
    "\n",
    "x = True\n",
    "y = False\n",
    "\n",
    "# Operador AND\n",
    "print(x and y)  # False, pois y é False\n",
    "\n",
    "# Operador OR\n",
    "print(x or y)   # True, pois x é True\n",
    "\n",
    "# Operador NOT\n",
    "print(not x)    # False, pois x é True, mas o NOT inverte o valor\n",
    "\n",
    "print(6>5) # True\n",
    "\n",
    "\n"
   ]
  }
 ],
 "metadata": {
  "kernelspec": {
   "display_name": "Python 3",
   "language": "python",
   "name": "python3"
  },
  "language_info": {
   "name": "python",
   "version": "3.12.3"
  }
 },
 "nbformat": 4,
 "nbformat_minor": 2
}
