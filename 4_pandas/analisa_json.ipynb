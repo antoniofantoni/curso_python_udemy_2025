{
 "cells": [
  {
   "cell_type": "code",
   "execution_count": 9,
   "id": "03e2f08d",
   "metadata": {},
   "outputs": [],
   "source": [
    "import pandas as pd"
   ]
  },
  {
   "cell_type": "code",
   "execution_count": 10,
   "id": "ec6c5e4f",
   "metadata": {},
   "outputs": [
    {
     "data": {
      "text/html": [
       "<div>\n",
       "<style scoped>\n",
       "    .dataframe tbody tr th:only-of-type {\n",
       "        vertical-align: middle;\n",
       "    }\n",
       "\n",
       "    .dataframe tbody tr th {\n",
       "        vertical-align: top;\n",
       "    }\n",
       "\n",
       "    .dataframe thead th {\n",
       "        text-align: right;\n",
       "    }\n",
       "</style>\n",
       "<table border=\"1\" class=\"dataframe\">\n",
       "  <thead>\n",
       "    <tr style=\"text-align: right;\">\n",
       "      <th></th>\n",
       "      <th>receitas</th>\n",
       "    </tr>\n",
       "  </thead>\n",
       "  <tbody>\n",
       "    <tr>\n",
       "      <th>0</th>\n",
       "      <td>{'titulo': 'Bolo Simples', 'tempo_preparo': '4...</td>\n",
       "    </tr>\n",
       "    <tr>\n",
       "      <th>1</th>\n",
       "      <td>{'titulo': 'Bolo de Chocolate', 'tempo_preparo...</td>\n",
       "    </tr>\n",
       "  </tbody>\n",
       "</table>\n",
       "</div>"
      ],
      "text/plain": [
       "                                            receitas\n",
       "0  {'titulo': 'Bolo Simples', 'tempo_preparo': '4...\n",
       "1  {'titulo': 'Bolo de Chocolate', 'tempo_preparo..."
      ]
     },
     "execution_count": 10,
     "metadata": {},
     "output_type": "execute_result"
    }
   ],
   "source": [
    "df = pd.read_json('receitas.json')\n",
    "df"
   ]
  },
  {
   "cell_type": "code",
   "execution_count": 19,
   "id": "2e7b3a93",
   "metadata": {},
   "outputs": [
    {
     "name": "stdout",
     "output_type": "stream",
     "text": [
      "A receita de Bolo Simples possui 5 ingredientes e leva 45 minutos para ser preparada.\n",
      "A receita de Bolo de Chocolate possui 7 ingredientes e leva 60 minutos para ser preparada.\n"
     ]
    }
   ],
   "source": [
    "  #Analisa total de ingredientes por receita usando for\n",
    "receitas_expandidas = []\n",
    "for receita in df[\"receitas\"]:\n",
    "    titulo = receita[\"titulo\"]\n",
    "    tp = receita[\"tempo_preparo\"]\n",
    "    total_ingredientes = len(receita[\"ingredientes\"])\n",
    "    print(f\"A receita de {titulo} possui {total_ingredientes} ingredientes e leva {tp} para ser preparada.\")\n"
   ]
  }
 ],
 "metadata": {
  "kernelspec": {
   "display_name": "Python 3",
   "language": "python",
   "name": "python3"
  },
  "language_info": {
   "codemirror_mode": {
    "name": "ipython",
    "version": 3
   },
   "file_extension": ".py",
   "mimetype": "text/x-python",
   "name": "python",
   "nbconvert_exporter": "python",
   "pygments_lexer": "ipython3",
   "version": "3.13.3"
  }
 },
 "nbformat": 4,
 "nbformat_minor": 5
}
