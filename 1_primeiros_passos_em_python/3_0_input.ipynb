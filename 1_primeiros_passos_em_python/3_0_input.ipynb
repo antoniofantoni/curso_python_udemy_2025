{
 "cells": [
  {
   "cell_type": "markdown",
   "metadata": {},
   "source": [
    "input"
   ]
  },
  {
   "cell_type": "code",
   "execution_count": 1,
   "metadata": {},
   "outputs": [
    {
     "name": "stdout",
     "output_type": "stream",
     "text": [
      "lll, ganha R$4.444.444,00, mora em kk e tem 55 anos.\n"
     ]
    }
   ],
   "source": [
    "]nome = input(\"Digite seu nome: \")\n",
    "idade = int(input(\"Digite sua idade: \"))\n",
    "\n",
    "salario = float(input(\"Digite seu salário: \"))\n",
    "# Passo 1: Formatar o número no estilo americano (ponto para milhar, vírgula para decimais)\n",
    "salario_formatado = f\"R${salario:,.2f}\"\n",
    "# Resultado: \"3,500.76\"\n",
    "#3.500.76 , por .\n",
    "\n",
    "# Passo 2: Substituir o ponto (.) por um caractere temporário (#)\n",
    "salario_formatado = salario_formatado.replace('.', '#')\n",
    "# Resultado: \"3,500#76\"\n",
    "\n",
    "# Passo 3: Substituir a vírgula (,) por ponto (.)\n",
    "salario_formatado = salario_formatado.replace(',', '.')\n",
    "# Resultado: \"3.500#76\"\n",
    "\n",
    "# Passo 4: Substituir o # por vírgula (,)\n",
    "salario_formatado = salario_formatado.replace('#', ',')\n",
    "# Resultado final: \"3.500,76\"\n",
    "'''\n",
    "Tudo que é digitado no input, entra como string\n",
    "para transformar em outro tipo, basta encapsular o input com o tipo que se deseja, nesse caso, float\n",
    "\n",
    "'''\n",
    "cidade = input(\"Digite sua cidade: \")\n",
    "print(f\"{nome}, ganha {salario_formatado}, mora em {cidade} e tem {idade} anos.\")\n"
   ]
  }
 ],
 "metadata": {
  "kernelspec": {
   "display_name": "Python 3",
   "language": "python",
   "name": "python3"
  },
  "language_info": {
   "codemirror_mode": {
    "name": "ipython",
    "version": 3
   },
   "file_extension": ".py",
   "mimetype": "text/x-python",
   "name": "python",
   "nbconvert_exporter": "python",
   "pygments_lexer": "ipython3",
   "version": "3.12.4"
  }
 },
 "nbformat": 4,
 "nbformat_minor": 2
}
