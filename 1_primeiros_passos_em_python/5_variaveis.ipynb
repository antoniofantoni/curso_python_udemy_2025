{
 "cells": [
  {
   "cell_type": "markdown",
   "metadata": {},
   "source": [
    "Variáveis"
   ]
  },
  {
   "cell_type": "code",
   "execution_count": 2,
   "metadata": {},
   "outputs": [
    {
     "name": "stdout",
     "output_type": "stream",
     "text": [
      "3.14\n",
      "Antonio Fantoni\n",
      "Resultados: 10 12.2 Antonio Homem? True\n"
     ]
    }
   ],
   "source": [
    "\n",
    "\n",
    "PI = 3.14 #boas práticas para indicar que uma variávelé constante\n",
    "print(PI)\n",
    "num_1 = int(10)\n",
    "num_2 = float(12.2)\n",
    "nome = str('Antonio')\n",
    "nome_completo = nome + \" Fantoni\"\n",
    "print(nome_completo)\n",
    "homem = bool(True)\n",
    "print('Resultados:', num_1,num_2,nome,'Homem?',homem)"
   ]
  }
 ],
 "metadata": {
  "kernelspec": {
   "display_name": "Python 3",
   "language": "python",
   "name": "python3"
  },
  "language_info": {
   "codemirror_mode": {
    "name": "ipython",
    "version": 3
   },
   "file_extension": ".py",
   "mimetype": "text/x-python",
   "name": "python",
   "nbconvert_exporter": "python",
   "pygments_lexer": "ipython3",
   "version": "3.12.3"
  }
 },
 "nbformat": 4,
 "nbformat_minor": 2
}
