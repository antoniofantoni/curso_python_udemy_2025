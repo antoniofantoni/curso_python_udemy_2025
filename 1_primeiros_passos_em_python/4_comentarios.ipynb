{
 "cells": [
  {
   "cell_type": "markdown",
   "metadata": {},
   "source": [
    "\n",
    "# Comentários\n",
    "\n",
    "'''\n",
    "Author: Antonio\n",
    "versão: 1\n",
    "'''"
   ]
  }
 ],
 "metadata": {
  "kernelspec": {
   "display_name": "Python 3",
   "language": "python",
   "name": "python3"
  },
  "language_info": {
   "name": "python",
   "version": "3.12.3"
  }
 },
 "nbformat": 4,
 "nbformat_minor": 2
}
