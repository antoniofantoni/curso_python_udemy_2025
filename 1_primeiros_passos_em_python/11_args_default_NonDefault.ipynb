{
 "cells": [
  {
   "cell_type": "code",
   "execution_count": null,
   "metadata": {},
   "outputs": [],
   "source": [
    "# Função passando nome e quantidade\n",
    "\n",
    "def boas_vindas(quantidade,nome='Antonio'): #Argumentos default são declarados por último, sempre\n",
    "    print(f'Olá {nome}')\n",
    "    print(f'Temos {quantidade} laptops em estoque')\n",
    "\n",
    "boas_vindas(10) "
   ]
  }
 ],
 "metadata": {
  "kernelspec": {
   "display_name": "Python 3",
   "language": "python",
   "name": "python3"
  },
  "language_info": {
   "name": "python",
   "version": "3.12.3"
  }
 },
 "nbformat": 4,
 "nbformat_minor": 2
}
